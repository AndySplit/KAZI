{
  "nbformat": 4,
  "nbformat_minor": 0,
  "metadata": {
    "colab": {
      "name": "CRYPTO_лаб_1.ipynb",
      "provenance": [],
      "collapsed_sections": [],
      "include_colab_link": true
    },
    "kernelspec": {
      "name": "python3",
      "display_name": "Python 3"
    }
  },
  "cells": [
    {
      "cell_type": "markdown",
      "metadata": {
        "id": "view-in-github",
        "colab_type": "text"
      },
      "source": [
        "<a href=\"https://colab.research.google.com/github/AndySplit/KAZI/blob/main/CRYPTO_%D0%BB%D0%B0%D0%B1_1_%D0%96%D0%B8%D0%B4%D0%BA%D0%BE%D0%B2.ipynb\" target=\"_parent\"><img src=\"https://colab.research.google.com/assets/colab-badge.svg\" alt=\"Open In Colab\"/></a>"
      ]
    },
    {
      "cell_type": "markdown",
      "metadata": {
        "id": "K4Sg8x12CjT0"
      },
      "source": [
        "# **hashlib** — хеширование строк в Python на примерах — MD5, SHA1"
      ]
    },
    {
      "cell_type": "markdown",
      "metadata": {
        "id": "qd9AXWBuCyEL"
      },
      "source": [
        "*   В Python хеш-функция принимает вводную последовательность с переменной длиной в байтах и конвертирует ее в последовательность с фиксированной длиной. Данная функция односторонняя.\n",
        "*   Это значит, что если f является функцией хеширования, f(x) вычисляется довольно быстро и без лишних сложностей, однако на повторное получение х потребуется очень много времени. Значение, что возвращается хеш-функцией, обычно называют хешем, дайджестом сообщения, значением хеша или контрольной суммой. \n",
        "    \n",
        "    **Популярные хеш-функции Python**\n",
        "\n",
        "\n",
        "1.   **MD5:** Алгоритм производит хеш со значением в 128 битов. Широко используется дляпроверки целостности данных. Не подходит для использования в иных областях по причине уязвимости в безопасности MD5.\n",
        "\n",
        "2.   **SHA:** Группа алгоритмов, что были разработаны NSA Соединенных Штатов. Они являются частью Федерального стандарта обработки информации США. Эти алгоритмы широко используются в нескольких криптографических приложениях. Длина сообщения варьируется от 160 до 512 бит.\n"
      ]
    },
    {
      "cell_type": "code",
      "metadata": {
        "id": "uSd4JAzjChb_"
      },
      "source": [
        "import hashlib"
      ],
      "execution_count": null,
      "outputs": []
    },
    {
      "cell_type": "markdown",
      "metadata": {
        "id": "fLsBz_mwERy8"
      },
      "source": [
        "Теперь для списка доступных алгоритмов используются algorithms_available и algorithms_guaranteed."
      ]
    },
    {
      "cell_type": "code",
      "metadata": {
        "id": "7qDs8KkJEXm-",
        "colab": {
          "base_uri": "https://localhost:8080/"
        },
        "outputId": "c4da91fc-c131-4c0f-85b2-2465ea7fc6fc"
      },
      "source": [
        "print(hashlib.algorithms_available)\n",
        "print(hashlib.algorithms_guaranteed)"
      ],
      "execution_count": null,
      "outputs": [
        {
          "output_type": "stream",
          "name": "stdout",
          "text": [
            "{'sha512', 'sha3_224', 'blake2b', 'sha256', 'sha384', 'sha3_256', 'md5', 'sha3_384', 'shake_128', 'shake_256', 'sha1', 'sha3_512', 'sha224', 'blake2s'}\n",
            "{'sha512', 'sha3_224', 'blake2b', 'sha256', 'sha384', 'sha3_256', 'md5', 'sha3_384', 'shake_128', 'shake_256', 'sha1', 'sha3_512', 'sha224', 'blake2s'}\n"
          ]
        }
      ]
    },
    {
      "cell_type": "markdown",
      "metadata": {
        "id": "4_KBFUMVEelz"
      },
      "source": [
        "Метод **algorithms_available** создает список всех алгоритмов, доступных в системе, включая те, что доступны через OpenSSl.\n",
        "\n",
        " В данном случае в списке можно заметить дубликаты названий. algorithms_guaranteed перечисляет только алгоритмы модуля. Всегда присутствуют **md5, sha1, sha224, sha256, sha384, sha512**."
      ]
    },
    {
      "cell_type": "markdown",
      "metadata": {
        "id": "AnoY66OEE5bj"
      },
      "source": [
        "# Примеры кода с хеш-функциями в Python"
      ]
    },
    {
      "cell_type": "markdown",
      "metadata": {
        "id": "BlZzyjfcE8JR"
      },
      "source": [
        "Код ниже принимает строку **\"Hello World\"** и выводит дайджест HEX данной строки. hexdigest возвращает строку HEX, что представляет хеш, и в случае, если вам нужна последовательность байтов, нужно использовать дайджест."
      ]
    },
    {
      "cell_type": "code",
      "metadata": {
        "id": "SKGBxYICEwuF",
        "colab": {
          "base_uri": "https://localhost:8080/"
        },
        "outputId": "f27503d4-a64a-4ee2-f4e3-e2c5fd509c66"
      },
      "source": [
        "import hashlib\n",
        " \n",
        "hash_object = hashlib.md5(b'1337')\n",
        "print(hash_object.hexdigest())"
      ],
      "execution_count": 13,
      "outputs": [
        {
          "output_type": "stream",
          "name": "stdout",
          "text": [
            "e48e13207341b6bffb7fb1622282247b\n"
          ]
        }
      ]
    },
    {
      "cell_type": "markdown",
      "metadata": {
        "id": "2XZOJN6-FjnP"
      },
      "source": [
        "если вам нужно принять какой-то ввод с консоли и хешировать его, не забудьте закодировать строку в последовательности байтов:"
      ]
    },
    {
      "cell_type": "markdown",
      "metadata": {
        "id": "GTOPrdJPJKxn"
      },
      "source": [
        "1. Хеширования на **MD5** "
      ]
    },
    {
      "cell_type": "code",
      "metadata": {
        "id": "u_fw28UtFk3i",
        "colab": {
          "base_uri": "https://localhost:8080/"
        },
        "outputId": "f6c6c9a3-10cd-470d-9acf-432b60a9d57d"
      },
      "source": [
        "import hashlib\n",
        " \n",
        "mystring = input('Enter String to hash: ')\n",
        " \n",
        "# Предположительно по умолчанию UTF-8\n",
        "hash_object = hashlib.md5(mystring.encode())\n",
        "print(hash_object.hexdigest())"
      ],
      "execution_count": 14,
      "outputs": [
        {
          "output_type": "stream",
          "name": "stdout",
          "text": [
            "Enter String to hash: hate niggers\n",
            "69b2901df37a8ebb140061203ece6740\n"
          ]
        }
      ]
    },
    {
      "cell_type": "markdown",
      "metadata": {
        "id": "xiLcc8x8Fnse"
      },
      "source": [
        "2. Хеширования на **SHA1**  "
      ]
    },
    {
      "cell_type": "code",
      "metadata": {
        "id": "QbjadNCFF-h-",
        "colab": {
          "base_uri": "https://localhost:8080/"
        },
        "outputId": "795de81b-fdb6-4d40-b956-e3551c657185"
      },
      "source": [
        "import hashlib\n",
        " \n",
        "hash_object = hashlib.sha1(b'Hello World')\n",
        "hex_dig = hash_object.hexdigest()\n",
        " \n",
        "print(hex_dig)"
      ],
      "execution_count": null,
      "outputs": [
        {
          "output_type": "stream",
          "name": "stdout",
          "text": [
            "0a4d55a8d778e5022fab701977c5d840bbc486d0\n"
          ]
        }
      ]
    },
    {
      "cell_type": "markdown",
      "metadata": {
        "id": "DP7-NgP8I6fr"
      },
      "source": [
        "3. Хеширование на **SHA224**"
      ]
    },
    {
      "cell_type": "code",
      "metadata": {
        "id": "5fByPQkAJUww",
        "colab": {
          "base_uri": "https://localhost:8080/"
        },
        "outputId": "9eb4571b-da63-4b56-bd07-406596640113"
      },
      "source": [
        "import hashlib\n",
        " \n",
        "hash_object = hashlib.sha224(b'kill niggers')\n",
        "hex_dig = hash_object.hexdigest()\n",
        " \n",
        "print(hex_dig)"
      ],
      "execution_count": 19,
      "outputs": [
        {
          "output_type": "stream",
          "name": "stdout",
          "text": [
            "21d704ac992e3b076760accc053d518be526d1a5449f6cbb2e8d3097\n"
          ]
        }
      ]
    },
    {
      "cell_type": "markdown",
      "metadata": {
        "id": "d-NGu_slJYXx"
      },
      "source": [
        "4. Хеширование на **SHA256**"
      ]
    },
    {
      "cell_type": "code",
      "metadata": {
        "id": "k4QR5WyiJXRT",
        "colab": {
          "base_uri": "https://localhost:8080/"
        },
        "outputId": "3e281b23-b1fa-432c-d9eb-f6f96cfe805e"
      },
      "source": [
        "import hashlib\n",
        " \n",
        "hash_object = hashlib.sha256(b'Hello World')\n",
        "hex_dig = hash_object.hexdigest()\n",
        " \n",
        "print(hex_dig)"
      ],
      "execution_count": null,
      "outputs": [
        {
          "output_type": "stream",
          "name": "stdout",
          "text": [
            "a591a6d40bf420404a011733cfb7b190d62c65bf0bcda32b57b277d9ad9f146e\n"
          ]
        }
      ]
    },
    {
      "cell_type": "markdown",
      "metadata": {
        "id": "AJoDm5wKJlad"
      },
      "source": [
        "5. Хеширование на **SHA384**"
      ]
    },
    {
      "cell_type": "code",
      "metadata": {
        "id": "ETZbgFdyJuo9",
        "colab": {
          "base_uri": "https://localhost:8080/"
        },
        "outputId": "da52d357-971f-41c1-a7c5-493051eda0e1"
      },
      "source": [
        "import hashlib\n",
        " \n",
        "hash_object = hashlib.sha384(b'Hello World')\n",
        "hex_dig = hash_object.hexdigest()\n",
        " \n",
        "print(hex_dig)"
      ],
      "execution_count": null,
      "outputs": [
        {
          "output_type": "stream",
          "name": "stdout",
          "text": [
            "99514329186b2f6ae4a1329e7ee6c610a729636335174ac6b740f9028396fcc803d0e93863a7c3d90f86beee782f4f3f\n"
          ]
        }
      ]
    },
    {
      "cell_type": "markdown",
      "metadata": {
        "id": "21OIsmeDJzl7"
      },
      "source": [
        "6. Хеширование на **SHA384**"
      ]
    },
    {
      "cell_type": "code",
      "metadata": {
        "id": "V1AjTGNyJ2qQ",
        "colab": {
          "base_uri": "https://localhost:8080/"
        },
        "outputId": "e059ad17-e535-4cdf-f29e-de59bf85dde5"
      },
      "source": [
        "import hashlib\n",
        " \n",
        "hash_object = hashlib.sha512(b'Hello World')\n",
        "hex_dig = hash_object.hexdigest()\n",
        " \n",
        "print(hex_dig)"
      ],
      "execution_count": null,
      "outputs": [
        {
          "output_type": "stream",
          "name": "stdout",
          "text": [
            "2c74fd17edafd80e8447b0d46741ee243b7eb74dd2149a0ab1b9246fb30382f27e853d8585719e0e67cbda0daa8f51671064615d645ae27acb15bfb1447f459b\n"
          ]
        }
      ]
    },
    {
      "cell_type": "markdown",
      "metadata": {
        "id": "TrIxobQqJ5sh"
      },
      "source": [
        "# Использование алгоритмов OpenSSL"
      ]
    },
    {
      "cell_type": "markdown",
      "metadata": {
        "id": "1chQxkjOJ9T8"
      },
      "source": [
        "Алгоритмы, предоставленные OpenSSL определяем через функцию  **algorithms_available**"
      ]
    },
    {
      "cell_type": "code",
      "metadata": {
        "id": "ypoqL8MKP-PX",
        "colab": {
          "base_uri": "https://localhost:8080/"
        },
        "outputId": "477d2197-81d9-44d1-d23b-a8e9e68fb92f"
      },
      "source": [
        "print(hashlib.algorithms_available)"
      ],
      "execution_count": null,
      "outputs": [
        {
          "output_type": "stream",
          "name": "stdout",
          "text": [
            "{'sha512', 'sha3_224', 'blake2b', 'sha256', 'sha384', 'sha3_256', 'md5', 'sha3_384', 'shake_128', 'shake_256', 'sha1', 'sha3_512', 'sha224', 'blake2s'}\n"
          ]
        }
      ]
    },
    {
      "cell_type": "code",
      "metadata": {
        "id": "zjJpT73gQKaz",
        "colab": {
          "base_uri": "https://localhost:8080/"
        },
        "outputId": "5dcab5d3-6807-455f-e341-99698b3cc363"
      },
      "source": [
        "import hashlib\n",
        " \n",
        "hash_object = hashlib.new('ripemd160')\n",
        "hash_object.update(b'Hello World')\n",
        " \n",
        "print(hash_object.hexdigest())"
      ],
      "execution_count": null,
      "outputs": [
        {
          "output_type": "stream",
          "name": "stdout",
          "text": [
            "a830d7beb04eb7549ce990fb7dc962e499a27230\n"
          ]
        }
      ]
    },
    {
      "cell_type": "markdown",
      "metadata": {
        "id": "dZK74AybR3Bk"
      },
      "source": [
        "# Пример хеширования паролей Python"
      ]
    },
    {
      "cell_type": "markdown",
      "metadata": {
        "id": "21CyU3u_R5cR"
      },
      "source": [
        "В следующем примере пароли будут хешироваться для последующего сохранения в базе данных. Здесь мы будем использовать **salt**. **salt** является случайной последовательностью, добавленной к строке пароля перед использованием хеш-функции. **salt** используется для предотвращения перебора по словарю (**dictionary attack**) и атак радужной таблицы (**rainbow tables attacks**)."
      ]
    },
    {
      "cell_type": "code",
      "metadata": {
        "id": "ASZPNYhvR4nm",
        "colab": {
          "base_uri": "https://localhost:8080/"
        },
        "outputId": "97de6c3d-52e0-4e2e-a2a8-5cb5b69cf73f"
      },
      "source": [
        "import uuid\n",
        "import hashlib\n",
        " \n",
        "def hash_password(password):\n",
        "    # uuid используется для генерации случайного числа\n",
        "    salt = uuid.uuid4().hex\n",
        "    return hashlib.sha256(salt.encode() + password.encode()).hexdigest() + ':' + salt\n",
        "    \n",
        "def check_password(hashed_password, user_password):\n",
        "    password, salt = hashed_password.split(':')\n",
        "    return password == hashlib.sha256(salt.encode() + user_password.encode()).hexdigest()\n",
        " \n",
        "new_pass = input('Введите пароль: ')\n",
        "hashed_password = hash_password(new_pass)\n",
        "print('Строка для хранения в базе данных: ' + hashed_password)\n",
        "old_pass = input('Введите пароль еще раз для проверки: ')\n",
        " \n",
        "if check_password(hashed_password, old_pass):\n",
        "    print('Вы ввели правильный пароль')\n",
        "else:\n",
        "    print('Извините, но пароли не совпадают')"
      ],
      "execution_count": 18,
      "outputs": [
        {
          "output_type": "stream",
          "name": "stdout",
          "text": [
            "Введите пароль: 1212\n",
            "Строка для хранения в базе данных: 21c56063fff50afe79d4ec2af6dad63e5909f35aa4fe8b0ea202e0a9ead2e04c:0c72005c80d54a6d8198efaa657382a5\n",
            "Введите пароль еще раз для проверки: 1212\n",
            "Вы ввели правильный пароль\n"
          ]
        }
      ]
    },
    {
      "cell_type": "markdown",
      "metadata": {
        "id": "g76qgB4DYwMT"
      },
      "source": [
        "# Самостоятельная работа \n",
        "Использование алгоритма MD5\n"
      ]
    },
    {
      "cell_type": "markdown",
      "metadata": {
        "id": "1QWOqskwY2n6"
      },
      "source": [
        "\n",
        "1. Создать с помощью Хеширования на MD5 пункта 1 :\n",
        "  - числовой пароль\n",
        "  - буквенный пароль\n",
        "  - буквенно-числовой пароль.\n",
        "2. Получить хэш паролей пункта 3 \n",
        "\n",
        "3. Реализовать следующие алгоритмы хэширования и получение хэш паролей, согласно варианту:\n",
        " MD2\n",
        "\n",
        "1.   MD4\n",
        "2.   MD5\n",
        "3.   MD6\n",
        "4.   N-Hash\n",
        "5.   RIPEMD-160\n",
        "6.   RIPEMD-256\n",
        "7.   RIPEMD-320\n",
        "8.   SHA-2\n",
        "9.   Keccak (SHA-3)\n",
        "10.  SHABAL\n",
        "11.  SHAvite-3\n",
        "12.  SIMD\n",
        "13.  SWIFFT\n",
        "14.  Skein\n",
        "15.  Tiger\n",
        "16.  Whirlpool\n",
        "17.  Hamsi\n",
        "18.  JH\n",
        "19.  Kupyna\n",
        "20.  LM-хеш\n",
        "21.  Luffa\n",
        "22.  MD4\n",
        "\n",
        "\n",
        "\n",
        "\n",
        "\n",
        "\n",
        "\n"
      ]
    },
    {
      "cell_type": "markdown",
      "metadata": {
        "id": "h30JPOgPqCbx"
      },
      "source": [
        "1 создать с помощью Хеширования на MD5 пункта 1 :\n",
        "\n",
        "числовой пароль\n",
        "буквенный пароль\n",
        "буквенно-числовой пароль."
      ]
    },
    {
      "cell_type": "code",
      "metadata": {
        "colab": {
          "base_uri": "https://localhost:8080/"
        },
        "id": "CGaImIKYqhgX",
        "outputId": "85e12340-7785-4f83-d4c2-1b6aeda47f82"
      },
      "source": [
        "import hashlib\n",
        " \n",
        "hash_object = hashlib.md5(b'1337')\n",
        "print(hash_object.hexdigest())"
      ],
      "execution_count": 16,
      "outputs": [
        {
          "output_type": "stream",
          "name": "stdout",
          "text": [
            "e48e13207341b6bffb7fb1622282247b\n"
          ]
        }
      ]
    },
    {
      "cell_type": "markdown",
      "metadata": {
        "id": "otnVw0Bcqneg"
      },
      "source": [
        "Тестовый пароль"
      ]
    },
    {
      "cell_type": "code",
      "metadata": {
        "colab": {
          "base_uri": "https://localhost:8080/"
        },
        "id": "0TbWJ6BYp2cB",
        "outputId": "e48b40a1-27e0-45be-af06-8848b17f1296"
      },
      "source": [
        "import hashlib\n",
        " \n",
        "mystring = input('Введите текст для шифрования: ')\n",
        " \n",
        "# Предположительно по умолчанию UTF-8\n",
        "hash_object = hashlib.md5(mystring.encode())\n",
        "print(hash_object.hexdigest())"
      ],
      "execution_count": 15,
      "outputs": [
        {
          "output_type": "stream",
          "name": "stdout",
          "text": [
            "Введите символы для шифрования: Я РУССКИЙ\n",
            "9e6590705f7b996c550e93532adb106a\n"
          ]
        }
      ]
    },
    {
      "cell_type": "markdown",
      "metadata": {
        "id": "CwTfD_zpqscR"
      },
      "source": [
        "Текстово числовой пароль"
      ]
    },
    {
      "cell_type": "code",
      "metadata": {
        "colab": {
          "base_uri": "https://localhost:8080/"
        },
        "id": "NxWA_CcSqwrR",
        "outputId": "80cd085e-99f2-466c-b905-95a5decf8558"
      },
      "source": [
        "import hashlib\n",
        " \n",
        "mystring = input('Введите символы для шифрования: ')\n",
        " \n",
        "# Предположительно по умолчанию UTF-8\n",
        "hash_object = hashlib.md5(mystring.encode())\n",
        "print(hash_object.hexdigest())"
      ],
      "execution_count": 17,
      "outputs": [
        {
          "output_type": "stream",
          "name": "stdout",
          "text": [
            "Введите символы для шифрования: Я не Украiн1ц\n",
            "34e43fb67573ac72234f2d56363ecbe6\n"
          ]
        }
      ]
    },
    {
      "cell_type": "markdown",
      "metadata": {
        "id": "srcB1128rPlp"
      },
      "source": [
        "\n",
        "Получить хэш паролей пункта 3"
      ]
    },
    {
      "cell_type": "markdown",
      "metadata": {
        "id": "Shoo9AYRtkhB"
      },
      "source": [
        "21d704ac992e3b076760accc053d518be526d1a5449f6cbb2e8d3097"
      ]
    },
    {
      "cell_type": "markdown",
      "metadata": {
        "id": "5tY6PRTRqbJh"
      },
      "source": [
        "Реализовать следующие алгоритмы хэширования и получение хэш паролей, согласно варианту (5 вариант)"
      ]
    },
    {
      "cell_type": "code",
      "metadata": {
        "colab": {
          "base_uri": "https://localhost:8080/"
        },
        "id": "MTks4g-j0CEw",
        "outputId": "507cc0a2-8922-4df8-87f5-a72cb2ac274c"
      },
      "source": [
        "import uuid\n",
        "import hashlib\n",
        " \n",
        "def hash_password(password):\n",
        "    # uuid используется для генерации случайного числа\n",
        "    salt = uuid.uuid4().hex\n",
        "    return hashlib.md5(salt.encode() + password.encode()).hexdigest() + ':' + salt\n",
        "    \n",
        "def check_password(hashed_password, user_password):\n",
        "    password, salt = hashed_password.split(':')\n",
        "    return password == hashlib.sha256(salt.encode() + user_password.encode()).hexdigest()\n",
        " \n",
        "new_pass = input('Введите пароль: ')\n",
        "hashed_password = hash_password(new_pass)\n",
        "print('Строка для хранения в базе данных: ' + hashed_password)\n",
        "old_pass = input('Введите пароль еще раз для проверки: ')\n",
        " \n",
        "if check_password(hashed_password, old_pass):\n",
        "    print('Вы ввели правильный пароль')\n",
        "else:\n",
        "    print('Извините, но пароли не совпадают')"
      ],
      "execution_count": 29,
      "outputs": [
        {
          "output_type": "stream",
          "name": "stdout",
          "text": [
            "Введите пароль: 1488\n",
            "Строка для хранения в базе данных: e03b352567046dc42a4d473569d53f2b:e15513c9500b44c68980c1fd61a0c96e\n",
            "Введите пароль еще раз для проверки: 1488\n",
            "Извините, но пароли не совпадают\n"
          ]
        }
      ]
    },
    {
      "cell_type": "code",
      "metadata": {
        "colab": {
          "base_uri": "https://localhost:8080/"
        },
        "id": "yZe8aBPIuHLS",
        "outputId": "6058d5f8-d67c-4506-8145-ecb6d018d8fa"
      },
      "source": [
        "import math\n",
        " \n",
        "rotate_amounts = [7, 12, 17, 22, 7, 12, 17, 22, 7, 12, 17, 22, 7, 12, 17, 22,\n",
        "                  5,  9, 14, 20, 5,  9, 14, 20, 5,  9, 14, 20, 5,  9, 14, 20,\n",
        "                  4, 11, 16, 23, 4, 11, 16, 23, 4, 11, 16, 23, 4, 11, 16, 23,\n",
        "                  6, 10, 15, 21, 6, 10, 15, 21, 6, 10, 15, 21, 6, 10, 15, 21]\n",
        " \n",
        "constants = [int(abs(math.sin(i+1)) * 2**32) & 0xFFFFFFFF for i in range(64)]\n",
        " \n",
        "init_values = [0x67452301, 0xefcdab89, 0x98badcfe, 0x10325476]\n",
        " \n",
        "functions = 16*[lambda b, c, d: (b & c) | (~b & d)] + \\\n",
        "            16*[lambda b, c, d: (d & b) | (~d & c)] + \\\n",
        "            16*[lambda b, c, d: b ^ c ^ d] + \\\n",
        "            16*[lambda b, c, d: c ^ (b | ~d)]\n",
        " \n",
        "index_functions = 16*[lambda i: i] + \\\n",
        "                  16*[lambda i: (5*i + 1)%16] + \\\n",
        "                  16*[lambda i: (3*i + 5)%16] + \\\n",
        "                  16*[lambda i: (7*i)%16]\n",
        " \n",
        "def left_rotate(x, amount):\n",
        "    x &= 0xFFFFFFFF\n",
        "    return ((x<<amount) | (x>>(32-amount))) & 0xFFFFFFFF\n",
        " \n",
        "def md5(message):\n",
        " \n",
        "    message = bytearray(message) #copy our input into a mutable buffer\n",
        "    orig_len_in_bits = (8 * len(message)) & 0xffffffffffffffff\n",
        "    message.append(0x80)\n",
        "    while len(message)%64 != 56:\n",
        "        message.append(0)\n",
        "    message += orig_len_in_bits.to_bytes(8, byteorder='little')\n",
        " \n",
        "    hash_pieces = init_values[:]\n",
        " \n",
        "    for chunk_ofst in range(0, len(message), 64):\n",
        "        a, b, c, d = hash_pieces\n",
        "        chunk = message[chunk_ofst:chunk_ofst+64]\n",
        "        for i in range(64):\n",
        "            f = functions[i](b, c, d)\n",
        "            g = index_functions[i](i)\n",
        "            to_rotate = a + f + constants[i] + int.from_bytes(chunk[4*g:4*g+4], byteorder='little')\n",
        "            new_b = (b + left_rotate(to_rotate, rotate_amounts[i])) & 0xFFFFFFFF\n",
        "            a, b, c, d = d, new_b, b, c\n",
        "        for i, val in enumerate([a, b, c, d]):\n",
        "            hash_pieces[i] += val\n",
        "            hash_pieces[i] &= 0xFFFFFFFF\n",
        " \n",
        "    return sum(x<<(32*i) for i, x in enumerate(hash_pieces))\n",
        " \n",
        "def md5_to_hex(digest):\n",
        "    raw = digest.to_bytes(16, byteorder='little')\n",
        "    return '{:032x}'.format(int.from_bytes(raw, byteorder='big'))\n",
        " \n",
        "if __name__=='__main__':\n",
        "    demo = [b\"\", b\"a\", b\"abc\", b\"message digest\", b\"abcdefghijklmnopqrstuvwxyz\",\n",
        "            b\"ABCDEFGHIJKLMNOPQRSTUVWXYZabcdefghijklmnopqrstuvwxyz0123456789\",\n",
        "            b\"12345678901234567890123456789012345678901234567890123456789012345678901234567890\"]\n",
        "    for message in demo:\n",
        "        print(md5_to_hex(md5(message)),' <= \"',message.decode('ascii'),'\"', sep='')\n",
        "    for message in demo:\n",
        "        hash_object = hashlib.md5(message)\n",
        "        print(hash_object.hexdigest(),' <= \"',message.decode('ascii'),'\"', sep='')"
      ],
      "execution_count": 30,
      "outputs": [
        {
          "output_type": "stream",
          "name": "stdout",
          "text": [
            "d41d8cd98f00b204e9800998ecf8427e <= \"\"\n",
            "0cc175b9c0f1b6a831c399e269772661 <= \"a\"\n",
            "900150983cd24fb0d6963f7d28e17f72 <= \"abc\"\n",
            "f96b697d7cb7938d525a2f31aaf161d0 <= \"message digest\"\n",
            "c3fcd3d76192e4007dfb496cca67e13b <= \"abcdefghijklmnopqrstuvwxyz\"\n",
            "d174ab98d277d9f5a5611c2c9f419d9f <= \"ABCDEFGHIJKLMNOPQRSTUVWXYZabcdefghijklmnopqrstuvwxyz0123456789\"\n",
            "57edf4a22be3c955ac49da2e2107b67a <= \"12345678901234567890123456789012345678901234567890123456789012345678901234567890\"\n",
            "d41d8cd98f00b204e9800998ecf8427e <= \"\"\n",
            "0cc175b9c0f1b6a831c399e269772661 <= \"a\"\n",
            "900150983cd24fb0d6963f7d28e17f72 <= \"abc\"\n",
            "f96b697d7cb7938d525a2f31aaf161d0 <= \"message digest\"\n",
            "c3fcd3d76192e4007dfb496cca67e13b <= \"abcdefghijklmnopqrstuvwxyz\"\n",
            "d174ab98d277d9f5a5611c2c9f419d9f <= \"ABCDEFGHIJKLMNOPQRSTUVWXYZabcdefghijklmnopqrstuvwxyz0123456789\"\n",
            "57edf4a22be3c955ac49da2e2107b67a <= \"12345678901234567890123456789012345678901234567890123456789012345678901234567890\"\n"
          ]
        }
      ]
    }
  ]
}